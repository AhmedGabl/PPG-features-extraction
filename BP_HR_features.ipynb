{
 "cells": [
  {
   "cell_type": "code",
   "execution_count": 3,
   "id": "c1418d4c",
   "metadata": {},
   "outputs": [
    {
     "name": "stdout",
     "output_type": "stream",
     "text": [
      "HR_avg = 79.06 bpm\n",
      "SBP = 120.64 mmHg\n",
      "DBP = 77.58 mmHg\n",
      "SpO2 = 95.72%\n"
     ]
    }
   ],
   "source": [
    "import numpy as np\n",
    "import scipy.signal as signal\n",
    "\n",
    "# Load the PPG data from a text file\n",
    "filename = 'Recorded_ppg/S2.txt'\n",
    "delimiter = ','  # Specify the delimiter used in the file\n",
    "ppg_signal = np.loadtxt(filename, delimiter=delimiter)\n",
    "\n",
    "# Set the sampling frequency (in Hz)\n",
    "fs = 120\n",
    "#1000\n",
    "\n",
    "# Filter the signal to remove noise and baseline wander\n",
    "fc_lp = 10  # low-pass cutoff frequency (in Hz)\n",
    "fc_hp = 0.5  # high-pass cutoff frequency (in Hz)\n",
    "b_lp, a_lp = signal.butter(2, fc_lp / (fs / 2), 'low')  # design a 2nd-order low-pass Butterworth filter\n",
    "b_hp, a_hp = signal.butter(2, fc_hp / (fs / 2), 'high')  # design a 2nd-order high-pass Butterworth filter\n",
    "ppg_filtered = signal.filtfilt(b_lp, a_lp, signal.filtfilt(b_hp, a_hp, ppg_signal))\n",
    "\n",
    "# Compute the first derivative of the PPG signal to detect the peaks\n",
    "ppg_diff = np.diff(ppg_filtered)\n",
    "\n",
    "# Find the peak locations (i.e., systolic peaks)\n",
    "peak_locs, _ = signal.find_peaks(ppg_diff, height=0.1*np.std(ppg_diff), distance=0.6*fs)\n",
    "\n",
    "# Compute the inter-peak intervals (IPIs) and heartrate variability (HRV)\n",
    "IPIs = np.diff(peak_locs) / fs\n",
    "HR = 60 / IPIs  # compute heart rate (HR) in bpm\n",
    "## Filter the heart rate to remove outliers or erroneous values\n",
    "#HR = signal.medfilt(HR, kernel_size=5)  # Apply median filtering with a suitable kernel size\n",
    "HR_avg = np.mean(HR)  # Compute the average heart rate (HR_avg)\n",
    "\n",
    "# Compute the pulse transit time (PTT)\n",
    "PTT = (peak_locs[-1] - peak_locs[0]) / fs\n",
    "\n",
    "# Compute the blood pressure (BP) estimate using the PTT method\n",
    "SBP = 0.9 * PTT + 117\n",
    "DBP = -0.6 * PTT + 80\n",
    "\n",
    "# Compute the ratio of red and infrared PPG signals \n",
    "#assuming this is a combined ppg with red light like the one from max30100 \n",
    "#O.W just put on a normal value (as it will be needed later )\n",
    "R = ppg_filtered[::2]\n",
    "IR = ppg_filtered[1::2]\n",
    "R_mean = np.mean(R)\n",
    "IR_mean = np.mean(IR)\n",
    "ratio = R_mean / IR_mean\n",
    "\n",
    "# Compute SpO2 using the Beer-Lambert law\n",
    "SpO2 = -15 * ratio + 110\n",
    "\n",
    "# Print the feature values\n",
    "print(f'HR_avg = {HR_avg:.2f} bpm')\n",
    "print(f'SBP = {SBP:.2f} mmHg')\n",
    "print(f'DBP = {DBP:.2f} mmHg')\n",
    "print(f'SpO2 = {SpO2:.2f}%')\n"
   ]
  },
  {
   "cell_type": "code",
   "execution_count": null,
   "id": "80f087ab",
   "metadata": {},
   "outputs": [],
   "source": []
  }
 ],
 "metadata": {
  "kernelspec": {
   "display_name": "Python 3 (ipykernel)",
   "language": "python",
   "name": "python3"
  },
  "language_info": {
   "codemirror_mode": {
    "name": "ipython",
    "version": 3
   },
   "file_extension": ".py",
   "mimetype": "text/x-python",
   "name": "python",
   "nbconvert_exporter": "python",
   "pygments_lexer": "ipython3",
   "version": "3.9.12"
  }
 },
 "nbformat": 4,
 "nbformat_minor": 5
}
